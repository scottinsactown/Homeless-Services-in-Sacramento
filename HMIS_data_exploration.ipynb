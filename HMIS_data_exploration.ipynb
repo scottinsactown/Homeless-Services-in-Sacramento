{
 "cells": [
  {
   "cell_type": "code",
   "execution_count": 1,
   "metadata": {},
   "outputs": [],
   "source": [
    "import pandas as pd\n",
    "from sqlalchemy import create_engine\n",
    "from config import username, password\n",
    "import numpy as np\n",
    "import matplotlib.pylab as plt\n",
    "import seaborn as sns"
   ]
  },
  {
   "cell_type": "code",
   "execution_count": 2,
   "metadata": {},
   "outputs": [],
   "source": [
    "engine = create_engine('postgresql://{}:{}@localhost:5432/HMIS'.format(username, password))\n",
    "conn = engine.connect()"
   ]
  },
  {
   "cell_type": "markdown",
   "metadata": {},
   "source": [
    "## Clients table"
   ]
  },
  {
   "cell_type": "markdown",
   "metadata": {},
   "source": [
    "#### data from 2002-2019"
   ]
  },
  {
   "cell_type": "code",
   "execution_count": 3,
   "metadata": {},
   "outputs": [],
   "source": [
    "clients = pd.read_sql(\"SELECT * FROM Clients\", conn)"
   ]
  },
  {
   "cell_type": "code",
   "execution_count": 5,
   "metadata": {},
   "outputs": [
    {
     "name": "stdout",
     "output_type": "stream",
     "text": [
      "(65822, 9)\n",
      "Index(['Race', 'Ethnicity', 'Gender', 'Vet_Status', 'Vet_Discharge_Status',\n",
      "       'Created_Date', 'Updated_Date', 'Birth_Date', 'Client_Id'],\n",
      "      dtype='object')\n"
     ]
    },
    {
     "data": {
      "text/html": [
       "<div>\n",
       "<style scoped>\n",
       "    .dataframe tbody tr th:only-of-type {\n",
       "        vertical-align: middle;\n",
       "    }\n",
       "\n",
       "    .dataframe tbody tr th {\n",
       "        vertical-align: top;\n",
       "    }\n",
       "\n",
       "    .dataframe thead th {\n",
       "        text-align: right;\n",
       "    }\n",
       "</style>\n",
       "<table border=\"1\" class=\"dataframe\">\n",
       "  <thead>\n",
       "    <tr style=\"text-align: right;\">\n",
       "      <th></th>\n",
       "      <th>Race</th>\n",
       "      <th>Ethnicity</th>\n",
       "      <th>Gender</th>\n",
       "      <th>Vet_Status</th>\n",
       "      <th>Vet_Discharge_Status</th>\n",
       "      <th>Created_Date</th>\n",
       "      <th>Updated_Date</th>\n",
       "      <th>Birth_Date</th>\n",
       "      <th>Client_Id</th>\n",
       "    </tr>\n",
       "  </thead>\n",
       "  <tbody>\n",
       "    <tr>\n",
       "      <td>0</td>\n",
       "      <td>White</td>\n",
       "      <td>Non-Hispanic/Non-Latino</td>\n",
       "      <td>Female</td>\n",
       "      <td>No</td>\n",
       "      <td>None</td>\n",
       "      <td>2009-10-22</td>\n",
       "      <td>2010-02-06</td>\n",
       "      <td>7654-01-01</td>\n",
       "      <td>30066035</td>\n",
       "    </tr>\n",
       "    <tr>\n",
       "      <td>1</td>\n",
       "      <td>Black or African American</td>\n",
       "      <td>Non-Hispanic/Non-Latino</td>\n",
       "      <td>Male</td>\n",
       "      <td>None</td>\n",
       "      <td>None</td>\n",
       "      <td>2019-08-22</td>\n",
       "      <td>2019-08-22</td>\n",
       "      <td>2019-01-01</td>\n",
       "      <td>3889225129</td>\n",
       "    </tr>\n",
       "  </tbody>\n",
       "</table>\n",
       "</div>"
      ],
      "text/plain": [
       "                        Race                Ethnicity  Gender Vet_Status  \\\n",
       "0                      White  Non-Hispanic/Non-Latino  Female         No   \n",
       "1  Black or African American  Non-Hispanic/Non-Latino    Male       None   \n",
       "\n",
       "  Vet_Discharge_Status Created_Date Updated_Date  Birth_Date   Client_Id  \n",
       "0                 None   2009-10-22   2010-02-06  7654-01-01    30066035  \n",
       "1                 None   2019-08-22   2019-08-22  2019-01-01  3889225129  "
      ]
     },
     "execution_count": 5,
     "metadata": {},
     "output_type": "execute_result"
    }
   ],
   "source": [
    "print (clients.shape)\n",
    "print(clients.columns)\n",
    "clients.head(2)"
   ]
  },
  {
   "cell_type": "code",
   "execution_count": 6,
   "metadata": {},
   "outputs": [
    {
     "data": {
      "text/plain": [
       "Race                        9\n",
       "Ethnicity                   5\n",
       "Gender                      8\n",
       "Vet_Status                  5\n",
       "Vet_Discharge_Status        9\n",
       "Created_Date             5014\n",
       "Updated_Date             4238\n",
       "Birth_Date                108\n",
       "Client_Id               65822\n",
       "dtype: int64"
      ]
     },
     "execution_count": 6,
     "metadata": {},
     "output_type": "execute_result"
    }
   ],
   "source": [
    "clients.nunique(axis=0)"
   ]
  },
  {
   "cell_type": "code",
   "execution_count": 7,
   "metadata": {},
   "outputs": [
    {
     "data": {
      "text/plain": [
       "array(['No', None, 'Yes', \"Client doesn't know\", 'Data not collected',\n",
       "       'Client refused'], dtype=object)"
      ]
     },
     "execution_count": 7,
     "metadata": {},
     "output_type": "execute_result"
    }
   ],
   "source": [
    "clients.Vet_Status.unique()\n",
    "# similar categories may need clean up if we want to use"
   ]
  },
  {
   "cell_type": "code",
   "execution_count": 9,
   "metadata": {},
   "outputs": [
    {
     "data": {
      "text/plain": [
       "array([None, 'General under honorable conditions', 'Honorable',\n",
       "       \"Client doesn't know\", 'Uncharacterized', 'Data not collected',\n",
       "       'Under other than honorable conditions (OTH)', 'Bad Conduct',\n",
       "       'Dishonorable', 'Client refused'], dtype=object)"
      ]
     },
     "execution_count": 9,
     "metadata": {},
     "output_type": "execute_result"
    }
   ],
   "source": [
    "clients.Vet_Discharge_Status.unique()\n",
    "# similar categories may need clean up if we want to use"
   ]
  },
  {
   "cell_type": "code",
   "execution_count": 16,
   "metadata": {},
   "outputs": [
    {
     "data": {
      "text/plain": [
       "Race                    object\n",
       "Ethnicity               object\n",
       "Gender                  object\n",
       "Vet_Status              object\n",
       "Vet_Discharge_Status    object\n",
       "Created_Date            object\n",
       "Updated_Date            object\n",
       "Birth_Date              object\n",
       "Client_Id                int64\n",
       "dtype: object"
      ]
     },
     "execution_count": 16,
     "metadata": {},
     "output_type": "execute_result"
    }
   ],
   "source": [
    "clients.dtypes"
   ]
  },
  {
   "cell_type": "code",
   "execution_count": 28,
   "metadata": {},
   "outputs": [
    {
     "data": {
      "text/plain": [
       "Clients_Race                  5994\n",
       "Clients_Ethnicity             2850\n",
       "Clients_Gender                 940\n",
       "Clients_Vetern_Status        14099\n",
       "Clients_Discharge_Status     61114\n",
       "Clients_Date_Created_Date        0\n",
       "Clients_Date_Updated             0\n",
       "Birth_date_d                   157\n",
       "Personal_Id_d                    0\n",
       "dtype: int64"
      ]
     },
     "execution_count": 28,
     "metadata": {},
     "output_type": "execute_result"
    }
   ],
   "source": [
    "clients.isnull().sum(axis = 0)"
   ]
  },
  {
   "cell_type": "code",
   "execution_count": 19,
   "metadata": {},
   "outputs": [
    {
     "data": {
      "text/plain": [
       "<bound method Series.max of 0        2009-10-22\n",
       "1        2019-08-22\n",
       "2        2019-08-01\n",
       "3        2019-07-29\n",
       "4        2019-07-10\n",
       "            ...    \n",
       "65817    2018-03-17\n",
       "65818    2018-11-20\n",
       "65819    2003-07-24\n",
       "65820    2018-08-16\n",
       "65821    2019-07-09\n",
       "Name: Created_Date, Length: 65822, dtype: object>"
      ]
     },
     "execution_count": 19,
     "metadata": {},
     "output_type": "execute_result"
    }
   ],
   "source": [
    "clients.Created_Date"
   ]
  },
  {
   "cell_type": "markdown",
   "metadata": {},
   "source": [
    "## Assessment"
   ]
  },
  {
   "cell_type": "markdown",
   "metadata": {},
   "source": [
    "#### data fom 2015-2019"
   ]
  },
  {
   "cell_type": "code",
   "execution_count": 20,
   "metadata": {},
   "outputs": [],
   "source": [
    "assess = pd.read_sql(\"SELECT * FROM Assessment\", conn)"
   ]
  },
  {
   "cell_type": "code",
   "execution_count": 22,
   "metadata": {},
   "outputs": [
    {
     "name": "stdout",
     "output_type": "stream",
     "text": [
      "(8944, 5)\n",
      "Index(['Client_Id', 'Assessment_Id', 'Assessment_Type', 'Assessment_Score',\n",
      "       'Assessment_Date'],\n",
      "      dtype='object')\n"
     ]
    },
    {
     "data": {
      "text/html": [
       "<div>\n",
       "<style scoped>\n",
       "    .dataframe tbody tr th:only-of-type {\n",
       "        vertical-align: middle;\n",
       "    }\n",
       "\n",
       "    .dataframe tbody tr th {\n",
       "        vertical-align: top;\n",
       "    }\n",
       "\n",
       "    .dataframe thead th {\n",
       "        text-align: right;\n",
       "    }\n",
       "</style>\n",
       "<table border=\"1\" class=\"dataframe\">\n",
       "  <thead>\n",
       "    <tr style=\"text-align: right;\">\n",
       "      <th></th>\n",
       "      <th>Client_Id</th>\n",
       "      <th>Assessment_Id</th>\n",
       "      <th>Assessment_Type</th>\n",
       "      <th>Assessment_Score</th>\n",
       "      <th>Assessment_Date</th>\n",
       "    </tr>\n",
       "  </thead>\n",
       "  <tbody>\n",
       "    <tr>\n",
       "      <td>0</td>\n",
       "      <td>1122742152</td>\n",
       "      <td>15808214</td>\n",
       "      <td>VI-SPDAT Prescreen for Single Adults [v1]</td>\n",
       "      <td>18</td>\n",
       "      <td>2016-03-03</td>\n",
       "    </tr>\n",
       "    <tr>\n",
       "      <td>1</td>\n",
       "      <td>721906958</td>\n",
       "      <td>10524533</td>\n",
       "      <td>VI-SPDAT Prescreen for Single Adults [v1]</td>\n",
       "      <td>18</td>\n",
       "      <td>2015-12-09</td>\n",
       "    </tr>\n",
       "  </tbody>\n",
       "</table>\n",
       "</div>"
      ],
      "text/plain": [
       "    Client_Id  Assessment_Id                            Assessment_Type  \\\n",
       "0  1122742152       15808214  VI-SPDAT Prescreen for Single Adults [v1]   \n",
       "1   721906958       10524533  VI-SPDAT Prescreen for Single Adults [v1]   \n",
       "\n",
       "   Assessment_Score Assessment_Date  \n",
       "0                18      2016-03-03  \n",
       "1                18      2015-12-09  "
      ]
     },
     "execution_count": 22,
     "metadata": {},
     "output_type": "execute_result"
    }
   ],
   "source": [
    "print (assess.shape)\n",
    "print(assess.columns)\n",
    "assess.head(2)"
   ]
  },
  {
   "cell_type": "code",
   "execution_count": 29,
   "metadata": {},
   "outputs": [
    {
     "data": {
      "text/plain": [
       "count    8944.000000\n",
       "mean        9.584526\n",
       "std         3.668045\n",
       "min         0.000000\n",
       "25%         7.000000\n",
       "50%        10.000000\n",
       "75%        13.000000\n",
       "max        18.000000\n",
       "Name: Assessment_Score, dtype: float64"
      ]
     },
     "execution_count": 29,
     "metadata": {},
     "output_type": "execute_result"
    }
   ],
   "source": [
    "assess.Assessment_Score.describe()"
   ]
  },
  {
   "cell_type": "code",
   "execution_count": 27,
   "metadata": {},
   "outputs": [
    {
     "data": {
      "text/plain": [
       "Client_Id           0\n",
       "Assessment_Id       0\n",
       "Assessment_Type     0\n",
       "Assessment_Score    0\n",
       "Assessment_Date     0\n",
       "dtype: int64"
      ]
     },
     "execution_count": 27,
     "metadata": {},
     "output_type": "execute_result"
    }
   ],
   "source": [
    "assess.isnull().sum(axis = 0)"
   ]
  },
  {
   "cell_type": "code",
   "execution_count": 28,
   "metadata": {},
   "outputs": [
    {
     "data": {
      "text/plain": [
       "array(['VI-SPDAT Prescreen for Single Adults [v1]'], dtype=object)"
      ]
     },
     "execution_count": 28,
     "metadata": {},
     "output_type": "execute_result"
    }
   ],
   "source": [
    "assess.Assessment_Type.unique()"
   ]
  },
  {
   "cell_type": "markdown",
   "metadata": {},
   "source": [
    "## Enrollment Table"
   ]
  },
  {
   "cell_type": "markdown",
   "metadata": {},
   "source": [
    "#### dates 2012-2019"
   ]
  },
  {
   "cell_type": "code",
   "execution_count": 30,
   "metadata": {},
   "outputs": [],
   "source": [
    "enroll = pd.read_sql(\"SELECT * FROM Enrollment\", conn)"
   ]
  },
  {
   "cell_type": "code",
   "execution_count": 32,
   "metadata": {},
   "outputs": [
    {
     "name": "stdout",
     "output_type": "stream",
     "text": [
      "(144067, 11)\n",
      "Index(['Client_Id', 'Enrollment_Id', 'Household_Id', 'Program_Id',\n",
      "       'Added_Date', 'Housing_Status', 'LOS_Prior', 'Zip', 'Chronic_Homeless',\n",
      "       'Prior_Residence', 'Last_Grade_Completed'],\n",
      "      dtype='object')\n"
     ]
    },
    {
     "data": {
      "text/html": [
       "<div>\n",
       "<style scoped>\n",
       "    .dataframe tbody tr th:only-of-type {\n",
       "        vertical-align: middle;\n",
       "    }\n",
       "\n",
       "    .dataframe tbody tr th {\n",
       "        vertical-align: top;\n",
       "    }\n",
       "\n",
       "    .dataframe thead th {\n",
       "        text-align: right;\n",
       "    }\n",
       "</style>\n",
       "<table border=\"1\" class=\"dataframe\">\n",
       "  <thead>\n",
       "    <tr style=\"text-align: right;\">\n",
       "      <th></th>\n",
       "      <th>Client_Id</th>\n",
       "      <th>Enrollment_Id</th>\n",
       "      <th>Household_Id</th>\n",
       "      <th>Program_Id</th>\n",
       "      <th>Added_Date</th>\n",
       "      <th>Housing_Status</th>\n",
       "      <th>LOS_Prior</th>\n",
       "      <th>Zip</th>\n",
       "      <th>Chronic_Homeless</th>\n",
       "      <th>Prior_Residence</th>\n",
       "      <th>Last_Grade_Completed</th>\n",
       "    </tr>\n",
       "  </thead>\n",
       "  <tbody>\n",
       "    <tr>\n",
       "      <td>0</td>\n",
       "      <td>321300535</td>\n",
       "      <td>1935521</td>\n",
       "      <td>1925701</td>\n",
       "      <td>3</td>\n",
       "      <td>2014-01-01</td>\n",
       "      <td>None</td>\n",
       "      <td>Two to six nights</td>\n",
       "      <td>95204.0</td>\n",
       "      <td>No</td>\n",
       "      <td>Emergency Shelter, including hotel/motel paid ...</td>\n",
       "      <td>None</td>\n",
       "    </tr>\n",
       "    <tr>\n",
       "      <td>1</td>\n",
       "      <td>716937870</td>\n",
       "      <td>1939455</td>\n",
       "      <td>1929625</td>\n",
       "      <td>5</td>\n",
       "      <td>2014-01-01</td>\n",
       "      <td>At-risk of homelessness</td>\n",
       "      <td>One month or more, but less than 90 days</td>\n",
       "      <td>NaN</td>\n",
       "      <td>No</td>\n",
       "      <td>Staying or living in a family member's room, a...</td>\n",
       "      <td>None</td>\n",
       "    </tr>\n",
       "  </tbody>\n",
       "</table>\n",
       "</div>"
      ],
      "text/plain": [
       "   Client_Id  Enrollment_Id  Household_Id  Program_Id  Added_Date  \\\n",
       "0  321300535        1935521       1925701           3  2014-01-01   \n",
       "1  716937870        1939455       1929625           5  2014-01-01   \n",
       "\n",
       "            Housing_Status                                 LOS_Prior      Zip  \\\n",
       "0                     None                         Two to six nights  95204.0   \n",
       "1  At-risk of homelessness  One month or more, but less than 90 days      NaN   \n",
       "\n",
       "  Chronic_Homeless                                    Prior_Residence  \\\n",
       "0               No  Emergency Shelter, including hotel/motel paid ...   \n",
       "1               No  Staying or living in a family member's room, a...   \n",
       "\n",
       "  Last_Grade_Completed  \n",
       "0                 None  \n",
       "1                 None  "
      ]
     },
     "execution_count": 32,
     "metadata": {},
     "output_type": "execute_result"
    }
   ],
   "source": [
    "print (enroll.shape)\n",
    "print(enroll.columns)\n",
    "enroll.head(2)"
   ]
  },
  {
   "cell_type": "code",
   "execution_count": 33,
   "metadata": {},
   "outputs": [
    {
     "data": {
      "text/plain": [
       "Client_Id                    0\n",
       "Enrollment_Id                0\n",
       "Household_Id                 0\n",
       "Program_Id                   0\n",
       "Added_Date                   0\n",
       "Housing_Status           52413\n",
       "LOS_Prior                37140\n",
       "Zip                      73323\n",
       "Chronic_Homeless             0\n",
       "Prior_Residence          21612\n",
       "Last_Grade_Completed    141573\n",
       "dtype: int64"
      ]
     },
     "execution_count": 33,
     "metadata": {},
     "output_type": "execute_result"
    }
   ],
   "source": [
    "enroll.isnull().sum(axis = 0)"
   ]
  },
  {
   "cell_type": "code",
   "execution_count": 35,
   "metadata": {},
   "outputs": [
    {
     "data": {
      "text/plain": [
       "array([  3,   5,   4,   6,   7,   9,   8,  10,  13,  11,  12,  14,  16,\n",
       "        15,  19,  17,  18,  41,  23,  20,  22,  21,  24,  26,  25,  27,\n",
       "        28,  29,  31,  30,  32,  33,  34,  35,  36,  38,  37,  48,  40,\n",
       "        39,  65,  42,  44,  45,  43,  55,  46,  47,  49,  50,  52,  51,\n",
       "        53,  54,  56,  57,  58,  60,  62,  63,  64,  66,  67,  68,  70,\n",
       "        71,  73,  75,  76,  72,  77,  78,  80,  81,  83,  84,  82,  85,\n",
       "        87,  86,  88,  89,  91,  90,  92,  95,  96,  97,  98,  99, 101,\n",
       "       102, 103, 108, 104, 105, 109, 110, 111, 113, 112, 115, 114, 116,\n",
       "       117, 118, 119, 120, 123, 125, 126, 127, 128, 129, 130, 132, 133,\n",
       "       134, 135, 136, 138, 141, 144, 146, 151, 153, 155, 154, 157, 161,\n",
       "       162, 163, 164, 165, 283, 315, 166, 167, 168, 171, 503, 176, 172,\n",
       "       173, 174, 175, 177, 178, 179, 180, 183, 184, 185, 187, 186, 188,\n",
       "       193, 196, 197, 256, 198, 288, 276, 294, 199, 314, 321, 206, 201,\n",
       "       202, 331, 217, 251, 245, 257, 262, 207, 204, 203, 214, 213, 212,\n",
       "       211, 239, 378, 215, 208, 210, 252, 253, 248, 250, 209, 341, 246,\n",
       "       247, 286, 254, 278, 349, 255, 265, 403, 263, 271, 390, 342, 272,\n",
       "       301, 279, 273, 275, 277, 274, 290, 413, 289, 291, 297, 296, 298,\n",
       "       299, 347, 305, 312, 313, 316, 303, 302, 304, 320, 330, 325, 322,\n",
       "       324, 323, 337, 326, 333, 343, 327, 328, 362, 368, 367, 388, 394,\n",
       "       379, 369, 380, 385, 387, 382, 377, 373, 389, 437, 376, 391, 374,\n",
       "       421, 419, 396, 425, 402, 427, 418, 406, 398, 433, 428, 404, 438,\n",
       "       329, 442, 444, 439, 440, 443, 458, 464, 468, 477, 488, 469, 479,\n",
       "       417, 426, 478, 526, 528], dtype=int64)"
      ]
     },
     "execution_count": 35,
     "metadata": {},
     "output_type": "execute_result"
    }
   ],
   "source": [
    "enroll.Program_Id.unique()"
   ]
  },
  {
   "cell_type": "code",
   "execution_count": 37,
   "metadata": {},
   "outputs": [
    {
     "data": {
      "text/plain": [
       "array([None, 'At-risk of homelessness',\n",
       "       'Category 2 - At Imminent risk of losing housing',\n",
       "       'Category 1 - Homeless', \"Client doesn't know\", 'Stably housed',\n",
       "       'Client refused', 'Category 4 - Fleeing domestic violence',\n",
       "       'Data not collected',\n",
       "       'Category 3 - Homeless only under other federal statutes'],\n",
       "      dtype=object)"
      ]
     },
     "execution_count": 37,
     "metadata": {},
     "output_type": "execute_result"
    }
   ],
   "source": [
    "enroll.Housing_Status.unique()"
   ]
  },
  {
   "cell_type": "code",
   "execution_count": 38,
   "metadata": {},
   "outputs": [
    {
     "data": {
      "text/plain": [
       "array(['No', 'Yes'], dtype=object)"
      ]
     },
     "execution_count": 38,
     "metadata": {},
     "output_type": "execute_result"
    }
   ],
   "source": [
    "enroll.Chronic_Homeless.unique()"
   ]
  },
  {
   "cell_type": "code",
   "execution_count": 40,
   "metadata": {},
   "outputs": [
    {
     "data": {
      "text/plain": [
       "array([None, 'Grades 5-6', 'Grades 9-11', 'Some college', 'Grade 12',\n",
       "       'GED', 'School program does not have grade levels',\n",
       "       'Vocational certification', 'Data not collected',\n",
       "       \"Bachelor's degree\", 'Grades 7-8', 'Less than Grade 5',\n",
       "       'Associates degree', 'Graduate degree', \"Client doesn't know\",\n",
       "       'Client refused'], dtype=object)"
      ]
     },
     "execution_count": 40,
     "metadata": {},
     "output_type": "execute_result"
    }
   ],
   "source": [
    "enroll.Last_Grade_Completed.unique()"
   ]
  },
  {
   "cell_type": "code",
   "execution_count": 66,
   "metadata": {},
   "outputs": [
    {
     "data": {
      "text/plain": [
       "array(['Two to six nights', 'One month or more, but less than 90 days',\n",
       "       None, 'One week or more, but less than one month',\n",
       "       '90 days or more, but less than one year', 'One year or longer',\n",
       "       'Client refused', \"Client doesn't know\", 'Data not collected',\n",
       "       'One night or Less'], dtype=object)"
      ]
     },
     "execution_count": 66,
     "metadata": {},
     "output_type": "execute_result"
    }
   ],
   "source": [
    "enroll.LOS_Prior.unique()"
   ]
  },
  {
   "cell_type": "markdown",
   "metadata": {},
   "source": [
    "## Program Table"
   ]
  },
  {
   "cell_type": "markdown",
   "metadata": {},
   "source": [
    "#### dates 1980-2019 (Program_Start)"
   ]
  },
  {
   "cell_type": "code",
   "execution_count": 41,
   "metadata": {},
   "outputs": [],
   "source": [
    "programs = pd.read_sql(\"SELECT * FROM Programs\", conn)"
   ]
  },
  {
   "cell_type": "code",
   "execution_count": 42,
   "metadata": {},
   "outputs": [
    {
     "name": "stdout",
     "output_type": "stream",
     "text": [
      "(298, 11)\n",
      "Index(['Program_Id', 'Agency_Id', 'Program_Name', 'Program_Start',\n",
      "       'Program_End', 'Continuum', 'Project_Type', 'Target_Pop',\n",
      "       'Housing_Type', 'Added_Date', 'Updated_Date'],\n",
      "      dtype='object')\n"
     ]
    },
    {
     "data": {
      "text/html": [
       "<div>\n",
       "<style scoped>\n",
       "    .dataframe tbody tr th:only-of-type {\n",
       "        vertical-align: middle;\n",
       "    }\n",
       "\n",
       "    .dataframe tbody tr th {\n",
       "        vertical-align: top;\n",
       "    }\n",
       "\n",
       "    .dataframe thead th {\n",
       "        text-align: right;\n",
       "    }\n",
       "</style>\n",
       "<table border=\"1\" class=\"dataframe\">\n",
       "  <thead>\n",
       "    <tr style=\"text-align: right;\">\n",
       "      <th></th>\n",
       "      <th>Program_Id</th>\n",
       "      <th>Agency_Id</th>\n",
       "      <th>Program_Name</th>\n",
       "      <th>Program_Start</th>\n",
       "      <th>Program_End</th>\n",
       "      <th>Continuum</th>\n",
       "      <th>Project_Type</th>\n",
       "      <th>Target_Pop</th>\n",
       "      <th>Housing_Type</th>\n",
       "      <th>Added_Date</th>\n",
       "      <th>Updated_Date</th>\n",
       "    </tr>\n",
       "  </thead>\n",
       "  <tbody>\n",
       "    <tr>\n",
       "      <td>0</td>\n",
       "      <td>5</td>\n",
       "      <td>19</td>\n",
       "      <td>TLCS Carol's Place ES (9)</td>\n",
       "      <td>1990-01-01</td>\n",
       "      <td>2012-02-29</td>\n",
       "      <td>1</td>\n",
       "      <td>Emergency Shelter</td>\n",
       "      <td>Not Applicable</td>\n",
       "      <td>None</td>\n",
       "      <td>2014-01-01</td>\n",
       "      <td>2014-01-01</td>\n",
       "    </tr>\n",
       "    <tr>\n",
       "      <td>1</td>\n",
       "      <td>6</td>\n",
       "      <td>42</td>\n",
       "      <td>VOA Aid in Kind ES</td>\n",
       "      <td>1990-01-01</td>\n",
       "      <td>2012-07-22</td>\n",
       "      <td>1</td>\n",
       "      <td>Emergency Shelter</td>\n",
       "      <td>None</td>\n",
       "      <td>None</td>\n",
       "      <td>2014-01-01</td>\n",
       "      <td>2014-01-01</td>\n",
       "    </tr>\n",
       "    <tr>\n",
       "      <td>2</td>\n",
       "      <td>7</td>\n",
       "      <td>19</td>\n",
       "      <td>TLCS Palmer Apartments -TH (48)</td>\n",
       "      <td>1990-01-01</td>\n",
       "      <td>2016-02-28</td>\n",
       "      <td>1</td>\n",
       "      <td>Transitional Housing</td>\n",
       "      <td>Not Applicable</td>\n",
       "      <td>None</td>\n",
       "      <td>2014-01-01</td>\n",
       "      <td>2016-10-27</td>\n",
       "    </tr>\n",
       "    <tr>\n",
       "      <td>3</td>\n",
       "      <td>8</td>\n",
       "      <td>19</td>\n",
       "      <td>TLCS: New Direction - SSO</td>\n",
       "      <td>1990-01-01</td>\n",
       "      <td>None</td>\n",
       "      <td>1</td>\n",
       "      <td>Services Only</td>\n",
       "      <td>Not Applicable</td>\n",
       "      <td>None</td>\n",
       "      <td>2014-01-01</td>\n",
       "      <td>2019-02-20</td>\n",
       "    </tr>\n",
       "    <tr>\n",
       "      <td>4</td>\n",
       "      <td>10</td>\n",
       "      <td>41</td>\n",
       "      <td>DHA Emergency Shelter (0)</td>\n",
       "      <td>1990-01-01</td>\n",
       "      <td>2013-12-31</td>\n",
       "      <td>1</td>\n",
       "      <td>Emergency Shelter</td>\n",
       "      <td>Not Applicable</td>\n",
       "      <td>None</td>\n",
       "      <td>2014-01-01</td>\n",
       "      <td>2014-01-01</td>\n",
       "    </tr>\n",
       "  </tbody>\n",
       "</table>\n",
       "</div>"
      ],
      "text/plain": [
       "   Program_Id  Agency_Id                     Program_Name Program_Start  \\\n",
       "0           5         19        TLCS Carol's Place ES (9)    1990-01-01   \n",
       "1           6         42               VOA Aid in Kind ES    1990-01-01   \n",
       "2           7         19  TLCS Palmer Apartments -TH (48)    1990-01-01   \n",
       "3           8         19        TLCS: New Direction - SSO    1990-01-01   \n",
       "4          10         41        DHA Emergency Shelter (0)    1990-01-01   \n",
       "\n",
       "  Program_End  Continuum          Project_Type      Target_Pop Housing_Type  \\\n",
       "0  2012-02-29          1     Emergency Shelter  Not Applicable         None   \n",
       "1  2012-07-22          1     Emergency Shelter            None         None   \n",
       "2  2016-02-28          1  Transitional Housing  Not Applicable         None   \n",
       "3        None          1         Services Only  Not Applicable         None   \n",
       "4  2013-12-31          1     Emergency Shelter  Not Applicable         None   \n",
       "\n",
       "   Added_Date Updated_Date  \n",
       "0  2014-01-01   2014-01-01  \n",
       "1  2014-01-01   2014-01-01  \n",
       "2  2014-01-01   2016-10-27  \n",
       "3  2014-01-01   2019-02-20  \n",
       "4  2014-01-01   2014-01-01  "
      ]
     },
     "execution_count": 42,
     "metadata": {},
     "output_type": "execute_result"
    }
   ],
   "source": [
    "print (programs.shape)\n",
    "print(programs.columns)\n",
    "programs.head()"
   ]
  },
  {
   "cell_type": "code",
   "execution_count": 44,
   "metadata": {},
   "outputs": [
    {
     "data": {
      "text/plain": [
       "Program_Id       298\n",
       "Agency_Id         81\n",
       "Program_Name     292\n",
       "Program_Start    108\n",
       "Program_End       72\n",
       "Continuum          2\n",
       "Project_Type      13\n",
       "Target_Pop         3\n",
       "Housing_Type       3\n",
       "Added_Date       101\n",
       "Updated_Date      81\n",
       "dtype: int64"
      ]
     },
     "execution_count": 44,
     "metadata": {},
     "output_type": "execute_result"
    }
   ],
   "source": [
    "programs.nunique(axis=0)"
   ]
  },
  {
   "cell_type": "code",
   "execution_count": 46,
   "metadata": {},
   "outputs": [
    {
     "data": {
      "text/plain": [
       "array(['Emergency Shelter', 'Transitional Housing', 'Services Only',\n",
       "       'PH - Permanent Supportive Housing (disability required)',\n",
       "       'RETIRED (HPRP)', 'Other', 'Street Outreach',\n",
       "       'PH - Rapid Re-Housing', 'Homeless Prevention',\n",
       "       'PH - Housing Only',\n",
       "       'PH - Housing with Services (no disability required)',\n",
       "       'Day Shelter', 'Coordinated Assessment'], dtype=object)"
      ]
     },
     "execution_count": 46,
     "metadata": {},
     "output_type": "execute_result"
    }
   ],
   "source": [
    "programs.Project_Type.unique()"
   ]
  },
  {
   "cell_type": "code",
   "execution_count": 47,
   "metadata": {},
   "outputs": [
    {
     "data": {
      "text/plain": [
       "array(['Not Applicable', None, 'Persons with HIV/AIDS',\n",
       "       'Domestic Violence victims'], dtype=object)"
      ]
     },
     "execution_count": 47,
     "metadata": {},
     "output_type": "execute_result"
    }
   ],
   "source": [
    "programs.Target_Pop.unique()"
   ]
  },
  {
   "cell_type": "code",
   "execution_count": 48,
   "metadata": {},
   "outputs": [
    {
     "data": {
      "text/plain": [
       "array([None, 'Site-based – single site',\n",
       "       'Site-based – clustered / multiple sites',\n",
       "       'Tenant-based - scattered site'], dtype=object)"
      ]
     },
     "execution_count": 48,
     "metadata": {},
     "output_type": "execute_result"
    }
   ],
   "source": [
    "programs.Housing_Type.unique()"
   ]
  },
  {
   "cell_type": "code",
   "execution_count": 50,
   "metadata": {},
   "outputs": [
    {
     "data": {
      "text/plain": [
       "Program_Id         0\n",
       "Agency_Id          0\n",
       "Program_Name       0\n",
       "Program_Start      0\n",
       "Program_End      164\n",
       "Continuum          0\n",
       "Project_Type       0\n",
       "Target_Pop         6\n",
       "Housing_Type     142\n",
       "Added_Date         0\n",
       "Updated_Date       0\n",
       "dtype: int64"
      ]
     },
     "execution_count": 50,
     "metadata": {},
     "output_type": "execute_result"
    }
   ],
   "source": [
    "programs.isnull().sum(axis = 0)"
   ]
  },
  {
   "cell_type": "markdown",
   "metadata": {},
   "source": [
    "## Exit Table"
   ]
  },
  {
   "cell_type": "markdown",
   "metadata": {},
   "source": [
    "#### dates 1986-2019"
   ]
  },
  {
   "cell_type": "code",
   "execution_count": 51,
   "metadata": {},
   "outputs": [],
   "source": [
    "exit_df = pd.read_sql(\"SELECT * FROM Exit_Screen\", conn) "
   ]
  },
  {
   "cell_type": "code",
   "execution_count": 52,
   "metadata": {
    "scrolled": true
   },
   "outputs": [
    {
     "name": "stdout",
     "output_type": "stream",
     "text": [
      "(135217, 6)\n",
      "Index(['Client_Id', 'Enrollment_Id', 'Exit_Destination', 'Exit_Reason',\n",
      "       'Exit_Date', 'es_id'],\n",
      "      dtype='object')\n"
     ]
    },
    {
     "data": {
      "text/html": [
       "<div>\n",
       "<style scoped>\n",
       "    .dataframe tbody tr th:only-of-type {\n",
       "        vertical-align: middle;\n",
       "    }\n",
       "\n",
       "    .dataframe tbody tr th {\n",
       "        vertical-align: top;\n",
       "    }\n",
       "\n",
       "    .dataframe thead th {\n",
       "        text-align: right;\n",
       "    }\n",
       "</style>\n",
       "<table border=\"1\" class=\"dataframe\">\n",
       "  <thead>\n",
       "    <tr style=\"text-align: right;\">\n",
       "      <th></th>\n",
       "      <th>Client_Id</th>\n",
       "      <th>Enrollment_Id</th>\n",
       "      <th>Exit_Destination</th>\n",
       "      <th>Exit_Reason</th>\n",
       "      <th>Exit_Date</th>\n",
       "      <th>es_id</th>\n",
       "    </tr>\n",
       "  </thead>\n",
       "  <tbody>\n",
       "    <tr>\n",
       "      <td>0</td>\n",
       "      <td>82216</td>\n",
       "      <td>758921321</td>\n",
       "      <td>Permanent housing (other than RRH) for formerl...</td>\n",
       "      <td>Completed Program</td>\n",
       "      <td>2010-05-25</td>\n",
       "      <td>1</td>\n",
       "    </tr>\n",
       "    <tr>\n",
       "      <td>1</td>\n",
       "      <td>170237</td>\n",
       "      <td>2746776022</td>\n",
       "      <td>Rental by client, no ongoing housing subsidy</td>\n",
       "      <td>Completed Program</td>\n",
       "      <td>2010-07-31</td>\n",
       "      <td>2</td>\n",
       "    </tr>\n",
       "    <tr>\n",
       "      <td>2</td>\n",
       "      <td>453629</td>\n",
       "      <td>2554945387</td>\n",
       "      <td>Emergency shelter, including hotel or motel pa...</td>\n",
       "      <td>Completed Program</td>\n",
       "      <td>2010-02-26</td>\n",
       "      <td>3</td>\n",
       "    </tr>\n",
       "    <tr>\n",
       "      <td>3</td>\n",
       "      <td>897131</td>\n",
       "      <td>1829973754</td>\n",
       "      <td>Rental by client, no ongoing housing subsidy</td>\n",
       "      <td>Reached maximum time allowed by program</td>\n",
       "      <td>2010-07-31</td>\n",
       "      <td>4</td>\n",
       "    </tr>\n",
       "    <tr>\n",
       "      <td>4</td>\n",
       "      <td>907879</td>\n",
       "      <td>2743367629</td>\n",
       "      <td>Rental by client, no ongoing housing subsidy</td>\n",
       "      <td>Reached maximum time allowed by program</td>\n",
       "      <td>2010-04-30</td>\n",
       "      <td>5</td>\n",
       "    </tr>\n",
       "  </tbody>\n",
       "</table>\n",
       "</div>"
      ],
      "text/plain": [
       "   Client_Id  Enrollment_Id  \\\n",
       "0      82216      758921321   \n",
       "1     170237     2746776022   \n",
       "2     453629     2554945387   \n",
       "3     897131     1829973754   \n",
       "4     907879     2743367629   \n",
       "\n",
       "                                    Exit_Destination  \\\n",
       "0  Permanent housing (other than RRH) for formerl...   \n",
       "1       Rental by client, no ongoing housing subsidy   \n",
       "2  Emergency shelter, including hotel or motel pa...   \n",
       "3       Rental by client, no ongoing housing subsidy   \n",
       "4       Rental by client, no ongoing housing subsidy   \n",
       "\n",
       "                               Exit_Reason   Exit_Date  es_id  \n",
       "0                        Completed Program  2010-05-25      1  \n",
       "1                        Completed Program  2010-07-31      2  \n",
       "2                        Completed Program  2010-02-26      3  \n",
       "3  Reached maximum time allowed by program  2010-07-31      4  \n",
       "4  Reached maximum time allowed by program  2010-04-30      5  "
      ]
     },
     "execution_count": 52,
     "metadata": {},
     "output_type": "execute_result"
    }
   ],
   "source": [
    "print (exit_df.shape)\n",
    "print(exit_df.columns)\n",
    "exit_df.head()"
   ]
  },
  {
   "cell_type": "code",
   "execution_count": 53,
   "metadata": {},
   "outputs": [
    {
     "data": {
      "text/plain": [
       "Client_Id               0\n",
       "Enrollment_Id           0\n",
       "Exit_Destination    36791\n",
       "Exit_Reason         26632\n",
       "Exit_Date               0\n",
       "es_id                   0\n",
       "dtype: int64"
      ]
     },
     "execution_count": 53,
     "metadata": {},
     "output_type": "execute_result"
    }
   ],
   "source": [
    "exit_df.isnull().sum(axis = 0)"
   ]
  },
  {
   "cell_type": "code",
   "execution_count": 54,
   "metadata": {
    "scrolled": true
   },
   "outputs": [
    {
     "data": {
      "text/plain": [
       "array(['Completed Program', 'Reached maximum time allowed by program',\n",
       "       'Unknown/disappeared', 'Disagreement with rules/persons',\n",
       "       'Left for a housing opportunity before completing program', None,\n",
       "       'Death', 'Other',\n",
       "       'Criminal activity/destruction of property/violence',\n",
       "       'Non-compliance with program', 'Needs could not be met by program',\n",
       "       'Non-payment of rent/occupancy charge'], dtype=object)"
      ]
     },
     "execution_count": 54,
     "metadata": {},
     "output_type": "execute_result"
    }
   ],
   "source": [
    "exit_df.Exit_Reason.unique()"
   ]
  },
  {
   "cell_type": "markdown",
   "metadata": {},
   "source": [
    "## Combining data"
   ]
  },
  {
   "cell_type": "code",
   "execution_count": 61,
   "metadata": {},
   "outputs": [
    {
     "data": {
      "text/html": [
       "<div>\n",
       "<style scoped>\n",
       "    .dataframe tbody tr th:only-of-type {\n",
       "        vertical-align: middle;\n",
       "    }\n",
       "\n",
       "    .dataframe tbody tr th {\n",
       "        vertical-align: top;\n",
       "    }\n",
       "\n",
       "    .dataframe thead th {\n",
       "        text-align: right;\n",
       "    }\n",
       "</style>\n",
       "<table border=\"1\" class=\"dataframe\">\n",
       "  <thead>\n",
       "    <tr style=\"text-align: right;\">\n",
       "      <th></th>\n",
       "      <th>Program_Id</th>\n",
       "      <th>Agency_Id</th>\n",
       "      <th>Program_Name</th>\n",
       "      <th>Program_Start</th>\n",
       "      <th>Program_End</th>\n",
       "      <th>Continuum</th>\n",
       "      <th>Project_Type</th>\n",
       "      <th>Target_Pop</th>\n",
       "      <th>Housing_Type</th>\n",
       "      <th>Added_Date_x</th>\n",
       "      <th>...</th>\n",
       "      <th>Client_Id</th>\n",
       "      <th>Enrollment_Id</th>\n",
       "      <th>Household_Id</th>\n",
       "      <th>Added_Date_y</th>\n",
       "      <th>Housing_Status</th>\n",
       "      <th>LOS_Prior</th>\n",
       "      <th>Zip</th>\n",
       "      <th>Chronic_Homeless</th>\n",
       "      <th>Prior_Residence</th>\n",
       "      <th>Last_Grade_Completed</th>\n",
       "    </tr>\n",
       "  </thead>\n",
       "  <tbody>\n",
       "    <tr>\n",
       "      <td>0</td>\n",
       "      <td>5</td>\n",
       "      <td>19</td>\n",
       "      <td>TLCS Carol's Place ES (9)</td>\n",
       "      <td>1990-01-01</td>\n",
       "      <td>2012-02-29</td>\n",
       "      <td>1</td>\n",
       "      <td>Emergency Shelter</td>\n",
       "      <td>Not Applicable</td>\n",
       "      <td>None</td>\n",
       "      <td>2014-01-01</td>\n",
       "      <td>...</td>\n",
       "      <td>716937870</td>\n",
       "      <td>1939455</td>\n",
       "      <td>1929625</td>\n",
       "      <td>2014-01-01</td>\n",
       "      <td>At-risk of homelessness</td>\n",
       "      <td>One month or more, but less than 90 days</td>\n",
       "      <td>NaN</td>\n",
       "      <td>No</td>\n",
       "      <td>Staying or living in a family member's room, a...</td>\n",
       "      <td>None</td>\n",
       "    </tr>\n",
       "    <tr>\n",
       "      <td>1</td>\n",
       "      <td>5</td>\n",
       "      <td>19</td>\n",
       "      <td>TLCS Carol's Place ES (9)</td>\n",
       "      <td>1990-01-01</td>\n",
       "      <td>2012-02-29</td>\n",
       "      <td>1</td>\n",
       "      <td>Emergency Shelter</td>\n",
       "      <td>Not Applicable</td>\n",
       "      <td>None</td>\n",
       "      <td>2014-01-01</td>\n",
       "      <td>...</td>\n",
       "      <td>913804588</td>\n",
       "      <td>1949314</td>\n",
       "      <td>1939459</td>\n",
       "      <td>2014-01-01</td>\n",
       "      <td>Category 2 - At Imminent risk of losing housing</td>\n",
       "      <td>One week or more, but less than one month</td>\n",
       "      <td>NaN</td>\n",
       "      <td>No</td>\n",
       "      <td>Transitional housing for homeless persons</td>\n",
       "      <td>None</td>\n",
       "    </tr>\n",
       "  </tbody>\n",
       "</table>\n",
       "<p>2 rows × 21 columns</p>\n",
       "</div>"
      ],
      "text/plain": [
       "   Program_Id  Agency_Id               Program_Name Program_Start Program_End  \\\n",
       "0           5         19  TLCS Carol's Place ES (9)    1990-01-01  2012-02-29   \n",
       "1           5         19  TLCS Carol's Place ES (9)    1990-01-01  2012-02-29   \n",
       "\n",
       "   Continuum       Project_Type      Target_Pop Housing_Type Added_Date_x  \\\n",
       "0          1  Emergency Shelter  Not Applicable         None   2014-01-01   \n",
       "1          1  Emergency Shelter  Not Applicable         None   2014-01-01   \n",
       "\n",
       "   ...  Client_Id  Enrollment_Id  Household_Id  Added_Date_y  \\\n",
       "0  ...  716937870        1939455       1929625    2014-01-01   \n",
       "1  ...  913804588        1949314       1939459    2014-01-01   \n",
       "\n",
       "                                    Housing_Status  \\\n",
       "0                          At-risk of homelessness   \n",
       "1  Category 2 - At Imminent risk of losing housing   \n",
       "\n",
       "                                   LOS_Prior Zip  Chronic_Homeless  \\\n",
       "0   One month or more, but less than 90 days NaN                No   \n",
       "1  One week or more, but less than one month NaN                No   \n",
       "\n",
       "                                     Prior_Residence Last_Grade_Completed  \n",
       "0  Staying or living in a family member's room, a...                 None  \n",
       "1          Transitional housing for homeless persons                 None  \n",
       "\n",
       "[2 rows x 21 columns]"
      ]
     },
     "execution_count": 61,
     "metadata": {},
     "output_type": "execute_result"
    }
   ],
   "source": [
    "# Can link enrollment and programs in pandas due to missing info in programs table data\n",
    "enroll_pgm = pd.merge(programs, enroll, on=\"Program_Id\")\n",
    "enroll_pgm.head(2)"
   ]
  },
  {
   "cell_type": "markdown",
   "metadata": {},
   "source": [
    "## Visualizations"
   ]
  },
  {
   "cell_type": "code",
   "execution_count": null,
   "metadata": {},
   "outputs": [],
   "source": []
  },
  {
   "cell_type": "markdown",
   "metadata": {},
   "source": [
    "## Other tools"
   ]
  },
  {
   "cell_type": "code",
   "execution_count": null,
   "metadata": {},
   "outputs": [],
   "source": [
    "# # get rid of redundant\n",
    "# df_cleaned = df_cleaned.copy().drop(['url','image_url','city_url'], axis=1)"
   ]
  },
  {
   "cell_type": "code",
   "execution_count": null,
   "metadata": {},
   "outputs": [],
   "source": [
    "# #remove columns with more than 40% null value\n",
    "# NA_val = df_cleaned.isna().sum()def na_filter(na, threshold = .4): #only select variables that passees the threshold\n",
    "#     col_pass = []\n",
    "#     for i in na.keys():\n",
    "#         if na[i]/df_cleaned.shape[0]<threshold:\n",
    "#             col_pass.append(i)\n",
    "#     return col_passdf_cleaned = df_cleaned[na_filter(NA_val)]\n",
    "# df_cleaned.columns"
   ]
  },
  {
   "cell_type": "code",
   "execution_count": null,
   "metadata": {},
   "outputs": [],
   "source": [
    "# # remove outliers\n",
    "# df_cleaned = df_cleaned[df_cleaned['price'].between(999.99, 99999.00)]\n",
    "# df_cleaned = df_cleaned[df_cleaned['year'] > 1990]\n",
    "# df_cleaned = df_cleaned[df_cleaned['odometer'] < 899999.00]df_cleaned.describe().apply(lambda s: s.apply(lambda x: format(x, 'f')))"
   ]
  },
  {
   "cell_type": "code",
   "execution_count": null,
   "metadata": {},
   "outputs": [],
   "source": [
    "# #remove rows with null values\n",
    "# df_cleaned = df_cleaned.dropna(axis=0)\n",
    "# df_cleaned.shape"
   ]
  },
  {
   "cell_type": "code",
   "execution_count": null,
   "metadata": {},
   "outputs": [],
   "source": [
    "# calculate correlation matrix\n",
    "corr = df_cleaned.corr()# plot the heatmap\n",
    "sns.heatmap(corr, xticklabels=corr.columns, yticklabels=corr.columns, annot=True, cmap=sns.diverging_palette(220, 20, as_cmap=True))"
   ]
  }
 ],
 "metadata": {
  "kernelspec": {
   "display_name": "Python 3",
   "language": "python",
   "name": "python3"
  },
  "language_info": {
   "codemirror_mode": {
    "name": "ipython",
    "version": 3
   },
   "file_extension": ".py",
   "mimetype": "text/x-python",
   "name": "python",
   "nbconvert_exporter": "python",
   "pygments_lexer": "ipython3",
   "version": "3.7.3"
  }
 },
 "nbformat": 4,
 "nbformat_minor": 2
}
