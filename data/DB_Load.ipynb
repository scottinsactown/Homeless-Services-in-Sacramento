{
 "cells": [
  {
   "cell_type": "code",
   "execution_count": 1,
   "metadata": {},
   "outputs": [],
   "source": [
    "from sqlalchemy import create_engine\n",
    "from config import username, password\n",
    "import pandas as pd\n",
    "\n",
    "engine = create_engine('postgresql://{}:{}@localhost:5432/HMIS_db'.format(username,password))\n",
    "\n",
    "con = engine.connect()\n",
    "\n",
    "with engine.connect() as c:\n",
    "    sql = '''\n",
    "    DROP TABLE IF EXISTS Clients CASCADE;\n",
    "\n",
    "\n",
    "CREATE TABLE Clients(\n",
    "\"Race\" varchar,\n",
    "\"Ethnicity\" varchar,\n",
    "\"Gender\" varchar,\n",
    "\"Vet_Status\" varchar,\n",
    "\"Vet_Discharge_Status\" varchar,\n",
    "\"Created_Date\" date,\n",
    "\"Updated_Date\" date,\n",
    "\"Birth_Date\" date,\n",
    "\"Client_Id\" bigint PRIMARY KEY\n",
    ");\n",
    "\n",
    "DROP TABLE IF EXISTS Assessment;\n",
    "\n",
    "CREATE TABLE Assessment (\n",
    "\"Client_Id\" bigint,\n",
    "\"Assessment_Id\" bigint PRIMARY KEY,\n",
    "\"Assessment_Type\" varchar,\n",
    "\"Assessment_Score\" int,\n",
    "\"Assessment_Date\" date,\n",
    "FOREIGN KEY (\"Client_Id\") REFERENCES Clients(\"Client_Id\")\n",
    ");\n",
    "\n",
    "\n",
    "DROP TABLE IF EXISTS Programs;\n",
    "\n",
    "CREATE TABLE Programs (\n",
    "\"Program_Id\" int PRIMARY KEY,\n",
    "\"Agency_Id\" int,\n",
    "\"Program_Name\" varchar, \n",
    "\"Program_Start\" date,\n",
    "\"Program_End\" date,\n",
    "\"Continuum\" int,\n",
    "\"Project_Type\" varchar,\n",
    "\"Target_Pop\" varchar,\n",
    "\"Housing_Type\" varchar,\n",
    "\"Added_Date\" date,\n",
    "\"Updated_Date\" date\n",
    ");\n",
    "\n",
    "DROP TABLE IF EXISTS Enrollment CASCADE;\n",
    "\n",
    "CREATE TABLE Enrollment (\n",
    "\"Client_Id\" bigint,\n",
    "\"Enrollment_Id\" bigint PRIMARY KEY,\n",
    "\"Household_Id\" bigint,\n",
    "\"Program_Id\" int,\n",
    "\"Added_Date\" date,\n",
    "\"Housing_Status\" varchar,\n",
    "\"LOS_Prior\" varchar,\n",
    "\"Entry Screen Times Homeless in the Past Three Years\" varchar,\n",
    "\"Entry Screen Total Months Homeless in Past Three Years\" varchar,\n",
    "\"Zip\" int,\n",
    "\"Chronic_Homeless\" varchar,\n",
    "\"Prior_Residence\" varchar,\n",
    "\"Last_Grade_Completed\" varchar,\n",
    "-- FOREIGN KEY (\"Program_Id\") REFERENCES Programs(\"Program_Id\"), -program table missing programs\n",
    "FOREIGN KEY (\"Client_Id\") REFERENCES Clients(\"Client_Id\")\n",
    ");\n",
    "\n",
    "DROP TABLE IF EXISTS Exit_Screen CASCADE; \n",
    "\n",
    "CREATE TABLE Exit_Screen (\n",
    "\"Client_Id\" bigint,\n",
    "\"Enrollment_Id\" bigint,\n",
    "\"Exit_Destination\" varchar,\n",
    "\"Exit_Reason\" varchar, \n",
    "\"Exit_Date\" date,\n",
    "FOREIGN KEY (\"Client_Id\") REFERENCES Clients(\"Client_Id\"),\n",
    "FOREIGN KEY (\"Enrollment_Id\") REFERENCES Enrollment(\"Enrollment_Id\")\n",
    ");\n",
    "    '''\n",
    "    c.execute(sql)\n",
    "    \n",
    "    \n"
   ]
  },
  {
   "cell_type": "code",
   "execution_count": 2,
   "metadata": {},
   "outputs": [
    {
     "name": "stderr",
     "output_type": "stream",
     "text": [
      "C:\\Users\\graha\\Anaconda3\\lib\\site-packages\\IPython\\core\\interactiveshell.py:3057: DtypeWarning: Columns (11,12,13,17) have mixed types. Specify dtype option on import or set low_memory=False.\n",
      "  interactivity=interactivity, compiler=compiler, result=result)\n"
     ]
    }
   ],
   "source": [
    "assessment = pd.read_csv(\"Sacramento_County_-_Assessment_Table_2019-09-05T0401_pTq3TT.csv\")\n",
    "client = pd.read_csv(\"Sacramento_County_-_Client_Table_2019-09-05T0101_Kky8n7.csv\")\n",
    "exit = pd.read_csv(\"Sacramento_County_-_edit_Exit_Table_2019-09-01T0601_FDwNWs.csv\")\n",
    "enrollment = pd.read_csv(\"Sacramento_County_-_Enrollment_Table_2019-09-05T0131_KptDcM.csv\")\n",
    "project = pd.read_csv(\"Sacramento_County_-_Project_Table_2019-09-05T0200_DdZb5N.csv\")"
   ]
  },
  {
   "cell_type": "code",
   "execution_count": 3,
   "metadata": {},
   "outputs": [],
   "source": [
    "for i in assessment.columns:\n",
    "    assessment.rename(columns = {\n",
    "        i:str(i).replace(' ', '_')\n",
    "    }, inplace=True)\n",
    "    \n",
    "    \n",
    "assessment.rename(columns={\n",
    "    'Personal_ID': 'Client_Id',\n",
    "    \"Assessment_ID\":'Assessment_Id'\n",
    "}, inplace=True)"
   ]
  },
  {
   "cell_type": "code",
   "execution_count": 4,
   "metadata": {},
   "outputs": [
    {
     "name": "stdout",
     "output_type": "stream",
     "text": [
      "<class 'pandas.core.frame.DataFrame'>\n",
      "RangeIndex: 8944 entries, 0 to 8943\n",
      "Data columns (total 5 columns):\n",
      "Client_Id           8944 non-null int64\n",
      "Assessment_Id       8944 non-null int64\n",
      "Assessment_Type     8944 non-null object\n",
      "Assessment_Score    8944 non-null int64\n",
      "Assessment_Date     8944 non-null object\n",
      "dtypes: int64(3), object(2)\n",
      "memory usage: 349.5+ KB\n"
     ]
    }
   ],
   "source": [
    "assessment.drop(columns=['ignore'], inplace=True)\n",
    "assessment.info()"
   ]
  },
  {
   "cell_type": "code",
   "execution_count": 5,
   "metadata": {},
   "outputs": [
    {
     "name": "stdout",
     "output_type": "stream",
     "text": [
      "<class 'pandas.core.frame.DataFrame'>\n",
      "RangeIndex: 65822 entries, 0 to 65821\n",
      "Data columns (total 9 columns):\n",
      "Race                    59828 non-null object\n",
      "Ethnicity               62972 non-null object\n",
      "Gender                  64882 non-null object\n",
      "Vet_Status              51723 non-null object\n",
      "Vet_Discharge_Status    4708 non-null object\n",
      "Created_Date            65822 non-null object\n",
      "Updated_Date            65822 non-null object\n",
      "Birth_Date              65665 non-null object\n",
      "Client_Id               65822 non-null int64\n",
      "dtypes: int64(1), object(8)\n",
      "memory usage: 4.5+ MB\n"
     ]
    }
   ],
   "source": [
    "client.rename(columns={\n",
    "    'Clients Race': 'Race',\n",
    "    'Clients Ethnicity':'Ethnicity',\n",
    "    'Clients Gender': 'Gender',\n",
    "    'Clients Veteran Status':'Vet_Status',\n",
    "    'Clients Discharge Status': 'Vet_Discharge_Status',\n",
    "    'Clients Date Created Date': 'Created_Date',\n",
    "    'Clients Date Updated': 'Updated_Date',\n",
    "    'Birth_Date_d':'Birth_Date',\n",
    "    'Personal_Id_d':'Client_Id'\n",
    "},inplace=True)\n",
    "\n",
    "client.info()"
   ]
  },
  {
   "cell_type": "code",
   "execution_count": 6,
   "metadata": {},
   "outputs": [
    {
     "name": "stdout",
     "output_type": "stream",
     "text": [
      "<class 'pandas.core.frame.DataFrame'>\n",
      "RangeIndex: 298 entries, 0 to 297\n",
      "Data columns (total 11 columns):\n",
      "Program_Id       298 non-null int64\n",
      "Agency_Id        298 non-null int64\n",
      "Program_Name     298 non-null object\n",
      "Program_Start    298 non-null object\n",
      "Program_End      134 non-null object\n",
      "Continuum        298 non-null int64\n",
      "Project_Type     298 non-null object\n",
      "Target_Pop       292 non-null object\n",
      "Housing_Type     156 non-null object\n",
      "Added_Date       298 non-null object\n",
      "Updated_Date     298 non-null object\n",
      "dtypes: int64(3), object(8)\n",
      "memory usage: 25.7+ KB\n"
     ]
    }
   ],
   "source": [
    "project.rename(columns={\n",
    "    'Program Id': 'Program_Id',\n",
    "    'Agency Id': 'Agency_Id',\n",
    "    'Name': 'Program_Name',\n",
    "    'Availability Start Date':'Program_Start',\n",
    "    'Availability End Date': 'Program_End',\n",
    "    'Continuum Project': 'Continuum',\n",
    "    'Project Type Code': 'Project_Type',\n",
    "    'Housing Type':'Housing_Type',\n",
    "    'Added Date':'Added_Date',\n",
    "    'Last Updated Date':'Updated_Date',\n",
    "    'Target Population':'Target_Pop'\n",
    "}, inplace=True)\n",
    "project.drop(columns=['Unnamed: 0','Affiliated Project Ids','Affiliated with a Residential Project', 'Tracking Method',\n",
    "                     'Victim Service Provider'], inplace=True)\n",
    "project.info()"
   ]
  },
  {
   "cell_type": "code",
   "execution_count": 7,
   "metadata": {},
   "outputs": [
    {
     "name": "stdout",
     "output_type": "stream",
     "text": [
      "<class 'pandas.core.frame.DataFrame'>\n",
      "RangeIndex: 135217 entries, 0 to 135216\n",
      "Data columns (total 5 columns):\n",
      "Client_Id           135217 non-null int64\n",
      "Enrollment_Id       135217 non-null int64\n",
      "Exit_Destination    98426 non-null object\n",
      "Exit_Reason         108585 non-null object\n",
      "Exit_Date           135217 non-null object\n",
      "dtypes: int64(2), object(3)\n",
      "memory usage: 5.2+ MB\n"
     ]
    }
   ],
   "source": [
    "for i in exit.columns:\n",
    "    if i == 'Project Exit Date':\n",
    "        exit.rename(columns={\n",
    "            i:'Exit_Date'\n",
    "        }, inplace=True)\n",
    "        continue\n",
    "    exit.rename(columns={\n",
    "        i:str(i).replace(' ', '_')\n",
    "    }, inplace=True)\n",
    "exit.rename(columns={\n",
    "    'Personal_ID':'Client_Id'\n",
    "}, inplace=True)\n",
    "\n",
    "exit.info()"
   ]
  },
  {
   "cell_type": "code",
   "execution_count": 8,
   "metadata": {},
   "outputs": [],
   "source": [
    "enrollment.rename(columns={\n",
    "    'Personal ID':'Client_Id',\n",
    "    'Enrollment Id': 'Enrollment_Id',\n",
    "    'Household ID': 'Household_Id',\n",
    "    'Enrollments Project Id': 'Program_Id',\n",
    "    'Entry Screen Added Date':'Added_Date',\n",
    "    'Entry Screen Housing Status':'Housing_Status',\n",
    "    'Entry Screen Length of Stay in Prior Living Situation':'LOS_Prior',\n",
    "    'Entry Screen Zip Code':'Zip',\n",
    "    'Entry Screen Chronic Homeless at Project Start':'Chronic_Homeless',\n",
    "    'Entry Screen Residence Prior to Project Entry':'Prior_Residence',\n",
    "    'Entry Screen Last Grade Completed':'Last_Grade_Completed'\n",
    "}, inplace=True)\n",
    "enrollment.drop(columns=['ignore',\n",
    "                        'Entry Screen Client Became Enrolled in PATH (Yes / No)',\n",
    "                        'Entry Screen Reason not Enrolled','Entry Screen City','Entry Screen State'\n",
    "                        ], inplace=True)"
   ]
  },
  {
   "cell_type": "code",
   "execution_count": 9,
   "metadata": {
    "scrolled": true
   },
   "outputs": [
    {
     "name": "stdout",
     "output_type": "stream",
     "text": [
      "<class 'pandas.core.frame.DataFrame'>\n",
      "RangeIndex: 144067 entries, 0 to 144066\n",
      "Data columns (total 13 columns):\n",
      "Client_Id                                                 144067 non-null int64\n",
      "Enrollment_Id                                             144067 non-null int64\n",
      "Household_Id                                              144067 non-null int64\n",
      "Program_Id                                                144067 non-null int64\n",
      "Added_Date                                                144067 non-null object\n",
      "Housing_Status                                            91654 non-null object\n",
      "LOS_Prior                                                 106927 non-null object\n",
      "Entry Screen Times Homeless in the Past Three Years       43392 non-null object\n",
      "Entry Screen Total Months Homeless in Past Three Years    32792 non-null object\n",
      "Zip                                                       70744 non-null float64\n",
      "Chronic_Homeless                                          144067 non-null object\n",
      "Prior_Residence                                           122455 non-null object\n",
      "Last_Grade_Completed                                      2494 non-null object\n",
      "dtypes: float64(1), int64(4), object(8)\n",
      "memory usage: 14.3+ MB\n"
     ]
    }
   ],
   "source": [
    "enrollment.info()"
   ]
  },
  {
   "cell_type": "code",
   "execution_count": 10,
   "metadata": {},
   "outputs": [
    {
     "name": "stdout",
     "output_type": "stream",
     "text": [
      "<class 'pandas.core.frame.DataFrame'>\n",
      "Int64Index: 135217 entries, 0 to 135216\n",
      "Data columns (total 5 columns):\n",
      "Client_Id           135217 non-null int64\n",
      "Enrollment_Id       135217 non-null int64\n",
      "Exit_Destination    98426 non-null object\n",
      "Exit_Reason         108585 non-null object\n",
      "Exit_Date           135217 non-null object\n",
      "dtypes: int64(2), object(3)\n",
      "memory usage: 6.2+ MB\n"
     ]
    }
   ],
   "source": [
    "exit = exit.loc[((exit['Client_Id'] != 383403592) & (exit['Client_Id'] != 455040993)),:]\n",
    "exit.info()"
   ]
  },
  {
   "cell_type": "markdown",
   "metadata": {},
   "source": [
    "# Following cell takes some time to run, writing a lot of rows/ columns to db"
   ]
  },
  {
   "cell_type": "code",
   "execution_count": 11,
   "metadata": {},
   "outputs": [],
   "source": [
    "client.to_sql(name=\"clients\", if_exists='append', index=False, con=con)\n",
    "assessment.to_sql(name=\"assessment\", if_exists='append', index=False, con=con)\n",
    "project.to_sql(name=\"programs\", if_exists='append', index=False, con=con) \n",
    "enrollment.to_sql(name=\"enrollment\",if_exists=\"append\", index=False, con=con)\n",
    "\n",
    "\n",
    "exit.to_sql(name=\"exit_screen\",if_exists=\"append\", index=False, con=con)"
   ]
  },
  {
   "cell_type": "code",
   "execution_count": 12,
   "metadata": {},
   "outputs": [],
   "source": [
    "with engine.connect() as c:\n",
    "    sql = '''\n",
    "    ALTER TABLE Exit_Screen\n",
    "ADD COLUMN ES_Id bigserial PRIMARY KEY;\n",
    "    '''\n",
    "    c.execute(sql)"
   ]
  },
  {
   "cell_type": "markdown",
   "metadata": {},
   "source": [
    "### Creating tables then views to use with Flask API "
   ]
  },
  {
   "cell_type": "code",
   "execution_count": 13,
   "metadata": {},
   "outputs": [],
   "source": [
    "# Table for number of active clients per month \n",
    "\n",
    "dates = pd.date_range(start='1/01/2015',periods=12*5,freq='M')\n",
    "\n",
    "sql_create = '''\n",
    "create table num_active_monthly (\n",
    "Num_Act bigint,\n",
    "Act_Date varchar primary key\n",
    ")\n",
    "'''\n",
    "with engine.connect() as c:\n",
    "    c.execute(sql_create)\n",
    "    \n",
    "    \n",
    "sql_update = '''\n",
    "insert into num_active_monthly\n",
    "Select count(a.\"Client_Id\") num_act, '{0}'  date\n",
    "from enrollment a\n",
    "left join exit_screen b\n",
    "on a.\"Enrollment_Id\" = b.\"Enrollment_Id\"\n",
    "where to_char(a.\"Added_Date\",'YYYY-mm') < '{0}'\n",
    "and to_char(b.\"Exit_Date\", 'YYYY-mm') > '{0}'\n",
    "'''\n",
    "\n",
    "for date in dates:\n",
    "    date = date.strftime('%Y-%m')\n",
    "    with engine.connect() as c:\n",
    "            c.execute(sql_update.format(date))"
   ]
  },
  {
   "cell_type": "code",
   "execution_count": 14,
   "metadata": {},
   "outputs": [],
   "source": [
    "# table for number of active clients per year\n",
    "# may change the logic here, currently gets clients who \n",
    "# were exclusively active (entered before year start, exited after)\n",
    "\n",
    "dates_y = ['2015','2016','2017','2018','2019']\n",
    "\n",
    "\n",
    "sql_create = '''\n",
    "create table num_active_yearly (\n",
    "Num_Act bigint,\n",
    "Act_Date varchar primary key\n",
    ")\n",
    "'''\n",
    "with engine.connect() as c:\n",
    "    c.execute(sql_create)\n",
    "    \n",
    "sql_update = '''\n",
    "insert into num_active_yearly\n",
    "Select count(a.\"Client_Id\") num_act, '{0}'  date\n",
    "from enrollment a\n",
    "left join exit_screen b\n",
    "on a.\"Enrollment_Id\" = b.\"Enrollment_Id\"\n",
    "where to_char(a.\"Added_Date\",'YYYY') < '{0}'\n",
    "and to_char(b.\"Exit_Date\", 'YYYY-mm') > '{0}'\n",
    "'''\n",
    "\n",
    "for date in dates_y:\n",
    "    with engine.connect() as c:\n",
    "        c.execute(sql_update.format(date))"
   ]
  },
  {
   "cell_type": "code",
   "execution_count": 15,
   "metadata": {},
   "outputs": [],
   "source": [
    "with engine.connect() as c:\n",
    "    sql = '''\n",
    "    create view monthly_in as\n",
    "    select to_char(e.\"Added_Date\", 'YYYY-mm'), count(e.\"Client_Id\") Num_in\n",
    "    from enrollment e\n",
    "    where to_char(e.\"Added_Date\", 'YYYY') > '2014'\n",
    "    group by to_char(e.\"Added_Date\", 'YYYY-mm')\n",
    "    order by to_char(e.\"Added_Date\", 'YYYY-mm') desc;\n",
    "    \n",
    "    create view monthly_out as\n",
    "    Select to_char(e.\"Exit_Date\", 'YYYY-mm'), count(e.\"Client_Id\") Num_out\n",
    "    from exit_screen e\n",
    "    where to_char(e.\"Exit_Date\", 'YYYY') > '2014'\n",
    "    group by to_char(e.\"Exit_Date\", 'YYYY-mm')\n",
    "    order by to_char(e.\"Exit_Date\", 'YYYY-mm') desc;\n",
    "    \n",
    "    create view yearly_in as\n",
    "    select to_char(e.\"Added_Date\", 'YYYY') date, count(e.\"Client_Id\") Num_in\n",
    "    from enrollment e\n",
    "    where to_char(e.\"Added_Date\", 'YYYY') > '2014'\n",
    "    group by to_char(e.\"Added_Date\", 'YYYY')\n",
    "    order by to_char(e.\"Added_Date\", 'YYYY') desc;\n",
    "\n",
    "\n",
    "\n",
    "    create view yearly_out as\n",
    "    Select to_char(e.\"Exit_Date\", 'YYYY'), count(e.\"Client_Id\") Num_out\n",
    "    from exit_screen e\n",
    "    where to_char(e.\"Exit_Date\", 'YYYY') > '2014'\n",
    "    group by to_char(e.\"Exit_Date\", 'YYYY')\n",
    "    order by to_char(e.\"Exit_Date\", 'YYYY') desc;\n",
    "    '''\n",
    "    c.execute(sql)\n",
    "    \n"
   ]
  },
  {
   "cell_type": "markdown",
   "metadata": {},
   "source": [
    "## Create Views for Demographics (Gender/Age/Race) per year"
   ]
  },
  {
   "cell_type": "code",
   "execution_count": null,
   "metadata": {},
   "outputs": [],
   "source": []
  },
  {
   "cell_type": "markdown",
   "metadata": {},
   "source": [
    "## Create Views/ Tables for number to PH per month (will also need year indication in json object returned from these tables in api). Also views for average time to PH per year. View for number enrolled in a program as homeless per year"
   ]
  },
  {
   "cell_type": "code",
   "execution_count": null,
   "metadata": {},
   "outputs": [],
   "source": []
  }
 ],
 "metadata": {
  "kernelspec": {
   "display_name": "Python 3",
   "language": "python",
   "name": "python3"
  },
  "language_info": {
   "codemirror_mode": {
    "name": "ipython",
    "version": 3
   },
   "file_extension": ".py",
   "mimetype": "text/x-python",
   "name": "python",
   "nbconvert_exporter": "python",
   "pygments_lexer": "ipython3",
   "version": "3.7.3"
  }
 },
 "nbformat": 4,
 "nbformat_minor": 2
}
